{
 "cells": [
  {
   "cell_type": "code",
   "execution_count": null,
   "metadata": {},
   "outputs": [],
   "source": [
    "import pieces\n",
    "import belief\n",
    "import tasks\n",
    "\n",
    "import numpy as np\n",
    "from matplotlib import pyplot as plt"
   ]
  },
  {
   "cell_type": "code",
   "execution_count": null,
   "metadata": {},
   "outputs": [],
   "source": [
    "# skill_to_action = {\n",
    "#     0: \"place_fm\",\n",
    "#     1: \"place_buzzer\",\n",
    "#     2: \"place_touch_plate\",\n",
    "#     3: \"place_reed_switch\",\n",
    "#     4: \"\",\n",
    "#     5: PieceSkill(\"identify_normal_switch\", \"switch\", SkillProbs()),\n",
    "#     6: PieceSkill(\"identify_cds\", \"cds\", SkillProbs(prob_guessing=0.1)),\n",
    "#     7: PieceSkill(\"identify_led\", \"led\", SkillProbs()),\n",
    "#     8: PieceSkill(\"identify_lamp\", \"lamp\", SkillProbs()),\n",
    "#     9: PieceSkill(\"identify_battery\", \"battery\", SkillProbs()),\n",
    "#     10: PieceSkill(\"identify_speaker\", \"speaker\", SkillProbs()),\n",
    "#     11: PieceSkill(\"identify_mc\", \"mc\", SkillProbs(prob_guessing=0.1)),\n",
    "#     12: PieceSkill(\"identify_motor\", \"motor\", SkillProbs()),\n",
    "#     13: Skill(\"connect_pieces\", \"connection\", SkillProbs(prob_guessing=0.1, prob_learning=0.5)),\n",
    "#     14: Skill(\"close_circuit\", \"closed\", SkillProbs(prob_guessing=0.1, prob_slipping=0.3, prob_learning=0.4)),\n",
    "#     15: Skill(\"series_circuit\", \"series\", SkillProbs(prob_guessing=0.1, prob_slipping=0.3, prob_learning=0.5)),\n",
    "#     16: Skill(\"parallel_circuit\", \"parallel\", SkillProbs(prob_guessing=0.1, prob_slipping=0.3, prob_learning=0.5)),\n",
    "#     17: StudDirectionSkill(\"led_pos_stud\", \"led\", StudType.POSITIVE, SkillProbs(prob_guessing=0.5, prob_slipping=0.2, prob_learning=0.6)),\n",
    "#     18: StudDirectionSkill(\"led_neg_stud\", \"led\", StudType.NEGATIVE, SkillProbs(prob_guessing=0.5, prob_slipping=0.2, prob_learning=0.6)),\n",
    "#     19: StudDirectionSkill(\"fm_in_stud\", \"fm\", StudType.IN, SkillProbs(prob_guessing=0.1, prob_slipping=0.4, prob_learning=0.5)),\n",
    "#     20: StudDirectionSkill(\"fm_out_stud\", \"fm\", StudType.OUT, SkillProbs(prob_guessing=0.1, prob_slipping=0.4, prob_learning=0.5)),\n",
    "#     21: StudDirectionSkill(\"fm_signal_stud\", \"fm\", StudType.SIGNAL, SkillProbs(prob_guessing=0.1, prob_slipping=0.5, prob_learning=0.5)),\n",
    "#     22: StudDirectionSkill(\"mc_in_stud\", \"mc\", StudType.IN, SkillProbs(prob_guessing=0.1, prob_slipping=0.4, prob_learning=0.5)),\n",
    "#     23: StudDirectionSkill(\"mc_out_stud\", \"mc\", StudType.OUT, SkillProbs(prob_guessing=0.1, prob_slipping=0.4, prob_learning=0.5)),\n",
    "#     24: StudDirectionSkill(\"mc_trigger_stud\", \"mc\", StudType.TRIGGER, SkillProbs(prob_guessing=0.1, prob_slipping=0.5, prob_learning=0.5)),\n",
    "#     25: StudDirectionSkill(\"mc_repeat_stud\", \"mc\", StudType.REPEAT, SkillProbs(prob_guessing=0.1, prob_slipping=0.5, prob_learning=0.5)),\n",
    "#     26: StudDirectionSkill(\"mc_restart_stud\", \"mc\", StudType.RESTART, SkillProbs(prob_guessing=0.1, prob_slipping=0.5, prob_learning=0.5)),\n",
    "# }"
   ]
  },
  {
   "cell_type": "code",
   "execution_count": null,
   "metadata": {},
   "outputs": [],
   "source": [
    "def create_beliefs(task, uids, masteries):\n",
    "    beliefs = {}\n",
    "    \n",
    "    for sid in task.sids:\n",
    "        p_L_0s = {}\n",
    "        for uid in uids:\n",
    "            p_L_0s[uid] = masteries[uid][sid]\n",
    "\n",
    "        skill = tasks.sid_skill_map[sid]\n",
    "        skill_probs = skill.skill_probs\n",
    "\n",
    "        skill_belief = belief.GroupSkillBelief(sname=skill.skill_name,\n",
    "                                        sid=sid, \n",
    "                                        uids=task.uids, \n",
    "                                        p_L_0s=p_L_0s, \n",
    "                                        p_S=skill_probs.prob_slipping, \n",
    "                                        p_G=skill_probs.prob_guessing, \n",
    "                                        p_T=skill_probs.prob_learning,\n",
    "                                        n=10, \n",
    "                                        discussion_time=task.discussion_time,\n",
    "                                        solve_time=task.solve_time)\n",
    "        beliefs[sid] = skill_belief\n",
    "    return beliefs"
   ]
  },
  {
   "cell_type": "code",
   "execution_count": null,
   "metadata": {},
   "outputs": [],
   "source": [
    "uids = [0, 1]\n",
    "board = pieces.Board(0)\n",
    "task = tasks.get_task(\"task1\", uids)\n",
    "\n",
    "masteries = {}\n",
    "\n",
    "for uid in uids:\n",
    "    masteries[uid] = {}\n",
    "    for sid in tasks.sids:\n",
    "        masteries[uid][sid] = np.random.randint(2)\n",
    "\n",
    "beliefs = create_beliefs(task, uids, masteries)\n"
   ]
  },
  {
   "cell_type": "code",
   "execution_count": null,
   "metadata": {},
   "outputs": [],
   "source": [
    "time = 0\n",
    "\n",
    "working_on = {}\n",
    "for sid in task.sids:\n",
    "    working_on[sid] = {}\n",
    "    for uid in uids:\n",
    "        working_on[uid] = 0\n",
    "\n",
    "while True:\n",
    "\n",
    "    for sid in task.sids:\n",
    "        skill_probs = tasks.sid_skill_map[sid].skill_probs\n",
    "\n",
    "        for uid in uids:\n",
    "            works_on_prob = masteries[uid][sid] * (1 - skill_probs.probs_slipping) + 1 - (masteries[uid][sid]) * skill_probs.prob_guessing\n",
    "            works_on = np.random.choice([0, 1], p=[1 - works_on_prob, works_on_prob])\n",
    "            working_on[sid][uid] += works_on\n",
    "\n",
    "    if time > task.discussion_time + task.solve_time:\n",
    "        break\n",
    "    time += 1"
   ]
  }
 ],
 "metadata": {
  "kernelspec": {
   "display_name": "myenv",
   "language": "python",
   "name": "python3"
  },
  "language_info": {
   "name": "python",
   "version": "3.11.9"
  }
 },
 "nbformat": 4,
 "nbformat_minor": 2
}
