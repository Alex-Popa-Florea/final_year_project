{
 "cells": [
  {
   "cell_type": "code",
   "execution_count": null,
   "metadata": {},
   "outputs": [],
   "source": [
    "import mastery_updater"
   ]
  },
  {
   "cell_type": "code",
   "execution_count": null,
   "metadata": {},
   "outputs": [],
   "source": [
    "unique_uids = []\n",
    "tids = []"
   ]
  },
  {
   "cell_type": "code",
   "execution_count": null,
   "metadata": {},
   "outputs": [],
   "source": [
    "uids = []\n",
    "for i, uid in enumerate(unique_uids):\n",
    "    uids.append(i)\n",
    "user_masteries = mastery_updater.FullMasteries(uids, tids)"
   ]
  },
  {
   "cell_type": "code",
   "execution_count": null,
   "metadata": {},
   "outputs": [],
   "source": [
    "valid_task, beliefs = mastery_updater.run_task(user_masteries, uids, unique_uids)\n",
    "if valid_task:\n",
    "    user_masteries.move_to_next_task(beliefs)\n",
    "    "
   ]
  }
 ],
 "metadata": {
  "language_info": {
   "name": "python"
  }
 },
 "nbformat": 4,
 "nbformat_minor": 2
}
